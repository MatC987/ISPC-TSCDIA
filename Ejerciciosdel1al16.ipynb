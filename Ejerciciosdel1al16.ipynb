{
 "cells": [
  {
   "cell_type": "code",
   "execution_count": 10,
   "metadata": {},
   "outputs": [
    {
     "name": "stdout",
     "output_type": "stream",
     "text": [
      "se verifica que la primer letra ingresada,siendo:  L ES IGUAL a la segunda letra ingresada, siendo: L\n"
     ]
    }
   ],
   "source": [
    "#Ejercicio Nº1 - Realice un programa que solicite dos letras ingresadas por el usuario y verifique si son iguales o no, mostrando un mensaje.\n",
    "letra_1 = str(input('Ingrese la primer letra: ')).upper()\n",
    "letra_2 = str(input('Ingrese la segunda letra: ')).upper()\n",
    "\n",
    "if letra_1 == letra_2:\n",
    "    print('se verifica que la primer letra ingresada,siendo: ', letra_1 , 'ES IGUAL a la segunda letra ingresada, siendo:', letra_2)\n",
    "else:\n",
    "    print('La primer letra ingresada, siendo: ', letra_1 , 'NO ES IGUAL a la segunda letra ingresada, siendo:', letra_2)"
   ]
  },
  {
   "cell_type": "code",
   "execution_count": 13,
   "metadata": {},
   "outputs": [
    {
     "name": "stdout",
     "output_type": "stream",
     "text": [
      "La primer palabra ingresada, siendo:  HOLA  NO ES IGUAL a la segunda palabra ingresada, siendo: HOL A\n"
     ]
    }
   ],
   "source": [
    "#Ejercicio Nº2 - Hacer un programa que permita decidir si dos palabras son iguales o diferentes. Mostrar mensaje por pantalla.\n",
    "\n",
    "palabra_1 = str(input('Ingrese la primer palabra: ')).upper()\n",
    "palabra_2 = str(input('Ingrese la segunda palabra: ')).upper()\n",
    "\n",
    "if palabra_1 == palabra_2:\n",
    "    print('se verifica que la primer palabra ingresada,siendo: ', palabra_1 , 'ES IGUAL a la segunda palabra ingresada, siendo:', palabra_2)\n",
    "else:\n",
    "    print('La primer palabra ingresada, siendo: ', palabra_1 , 'NO ES IGUAL a la segunda palabra ingresada, siendo:', palabra_2)"
   ]
  },
  {
   "cell_type": "code",
   "execution_count": 42,
   "metadata": {},
   "outputs": [
    {
     "name": "stdout",
     "output_type": "stream",
     "text": [
      "Ingrese el sexo de la persona que va a votar - SOLAMENTE INGRESAR \"m\" si es masculino o \"f\" si es femenino\n",
      "Dato ingresado incorrecto, intentar nuevamente:\n"
     ]
    }
   ],
   "source": [
    "#Ejercicio Nº3 - Realizar un programa que permita ingresar “f” o “m” y determinar si vota en mesa femenina o masculina.\n",
    "\n",
    "print('Ingrese el sexo de la persona que va a votar - SOLAMENTE INGRESAR \"m\" si es masculino o \"f\" si es femenino')\n",
    "sexo = str(input('SEXO: ')).lower()\n",
    "if sexo == \"f\":\n",
    "    print('La persona vota en mesa femenina')\n",
    "elif sexo == \"m\":\n",
    "    print('La persona vota en mesa masculina')\n",
    "else:\n",
    "    print('Dato ingresado incorrecto, intentar nuevamente:')\n",
    "\n"
   ]
  },
  {
   "cell_type": "code",
   "execution_count": 59,
   "metadata": {},
   "outputs": [
    {
     "name": "stdout",
     "output_type": "stream",
     "text": [
      "Los dos numeros ingresados son iguales\n"
     ]
    }
   ],
   "source": [
    "#Ejercicio Nº4 - Realice un programa que lea dos números y diga cuál es el mayor.\n",
    "\n",
    "numero_1 = float(input('Ingrese el primer numero: '))\n",
    "numero_2 = float(input('Ingrese el segundo numero: '))\n",
    "\n",
    "if numero_1 > numero_2:\n",
    "    print('El primer numero ingresado: ', numero_1 , 'ES MAYOR al segundo numero ingresado: ', numero_2)\n",
    "elif numero_1 == numero_2:\n",
    "    print('Los dos numeros ingresados son iguales')\n",
    "else:\n",
    "    print('El segundo numero ingresado: ', numero_2 , 'ES MAYOR al primer numero ingresado: ', numero_1)\n"
   ]
  },
  {
   "cell_type": "code",
   "execution_count": 78,
   "metadata": {},
   "outputs": [
    {
     "name": "stdout",
     "output_type": "stream",
     "text": [
      "Ingrese el tipo de divisa con el que desea operar: indicar \"p\" para pesos argentinos y \"d\" para dolares estadounidenses\n",
      "Dato ingresado incorrecto, intentar nuevamente:\n"
     ]
    }
   ],
   "source": [
    "#Ejercicio Nº5 - Realice un programa que cambie pesos a dólares. Mejórelo, añadiendo el cambio de dólares a pesos y que sea el usuario quién decida qué tipo de cambio quiere, si de dólares a pesos o viceversa.\n",
    "print('Ingrese el tipo de divisa con el que desea operar: indicar \"p\" para pesos argentinos y \"d\" para dolares estadounidenses')\n",
    "divisa = str(input('tipo de divisa: ')).lower()\n",
    "if divisa == 'p' or divisa == 'd':\n",
    "    cotizacion_d = float(input('Ingrese cotizacion dolar estadounidense/peso argentino: '))\n",
    "    cantidad_divisa = float(input('Ingrese monto de operacion: '))\n",
    "\n",
    "    if divisa == 'p':\n",
    "        dolares = cantidad_divisa/cotizacion_d\n",
    "        print('El monto de $' , cantidad_divisa , ' pesos argentinos equivale a U$D' , dolares , 'dolares estadounidenses')\n",
    "    elif divisa == 'd':\n",
    "        pesos = cantidad_divisa*cotizacion_d\n",
    "        print('El monto de U$D' , cantidad_divisa , ' dolares estadounidenses equivale a $' , pesos , 'pesos argentinos')\n",
    "else:\n",
    "    print('Dato ingresado incorrecto, intentar nuevamente:')\n",
    "\n",
    "\n",
    "\n"
   ]
  },
  {
   "cell_type": "code",
   "execution_count": null,
   "metadata": {},
   "outputs": [],
   "source": [
    "#Ejercicio Nº6 - Realice un programa donde el usuario ingrese su edad. Si es mayor de 16 años, muestre un mensaje diciendo “puede votar”, sino “no vota”\n",
    "\n",
    "edad = int(input('Ingrese edad: '))\n",
    "\n",
    "if edad > 16:\n",
    "    print('El usuario puede votar')\n",
    "else:\n",
    "    print('El usuario NO puede votar')"
   ]
  },
  {
   "cell_type": "code",
   "execution_count": 95,
   "metadata": {},
   "outputs": [
    {
     "name": "stdout",
     "output_type": "stream",
     "text": [
      "Ingrese los lados del triangulo: \n",
      "El triangulo es ESCALENO\n"
     ]
    }
   ],
   "source": [
    "#Ejercicio Nº7 - Introducir los lados de un triángulo y visualizar por pantalla si dicho triángulo es equilátero, isósceles o escaleno.\n",
    "print('Ingrese los lados del triangulo: ')\n",
    "a = int(input('Ingrese primer lado: '))\n",
    "b = int(input('Ingrese segundo lado: '))\n",
    "c = int(input('Ingrese tercer lado: '))\n",
    "\n",
    "if a == b == c:\n",
    "    print('El triangulo es EQUILATERO')\n",
    "elif a != b and b != c and a!= c:\n",
    "    print('El triangulo es ESCALENO')\n",
    "else:\n",
    "    print('El triangulo es ISOSCELES')"
   ]
  },
  {
   "cell_type": "code",
   "execution_count": 105,
   "metadata": {},
   "outputs": [
    {
     "name": "stdout",
     "output_type": "stream",
     "text": [
      "Ingresar medio de pago: 1- Contado (descuento del 10%) 2- Tarjeta (interes del 10%) 3- Debito (descuento del 5%)\n",
      "El importe de: $ 1000.0 pesos argentinos siendo el metodo de pago DEBITO (descuento del 5%) , quedara en: $ 950.0 pesos argentinos\n"
     ]
    }
   ],
   "source": [
    "#Ejercicio Nº8 - Realice un programa que le permita al usuario simular el pago ingresando el importe y la forma de pago\n",
    "\n",
    "importe = float(input('Ingrese el importe: '))\n",
    "\n",
    "print('Ingresar medio de pago: 1- Contado (descuento del 10%) 2- Tarjeta (interes del 10%) 3- Debito (descuento del 5%)')\n",
    "medio_pago = int(input('Ingresar opcion de metodo de pago: '))\n",
    "\n",
    "if medio_pago == 1:\n",
    "    print('El importe de: $' , importe , 'pesos argentinos siendo el metodo de pago CONTADO (descuento del 10%) , quedara en: $' , importe*0.9 , 'pesos argentinos')\n",
    "elif medio_pago == 2:\n",
    "    print('El importe de: $' , importe , 'pesos argentinos siendo el metodo de pago TARJETA (interes del 10%) , quedara en: $' , importe*1.1 , 'pesos argentinos')\n",
    "elif medio_pago == 3:\n",
    "    print('El importe de: $' , importe , 'pesos argentinos siendo el metodo de pago DEBITO (descuento del 5%) , quedara en: $' , importe*0.95 , 'pesos argentinos')\n",
    "else:\n",
    "    print('Dato ingresado incorrecto, intentar nuevamente:')\n"
   ]
  },
  {
   "cell_type": "code",
   "execution_count": 109,
   "metadata": {},
   "outputs": [
    {
     "name": "stdout",
     "output_type": "stream",
     "text": [
      "Ingresar los tres numeros: \n",
      "El maximo valor ingresado es 941.0 y es un numero IMPAR\n"
     ]
    }
   ],
   "source": [
    "#Ejercicio Nº9 - Realice un programa que lea tres números, muestre cuál es el mayor y determine si es par o impar.\n",
    "\n",
    "print('Ingresar los tres numeros: ')\n",
    "\n",
    "numero1 = float(input('Ingresar primer numero:'))\n",
    "numero2 = float(input('Ingresar segundo numero:'))\n",
    "numero3 = float(input('Ingresar tercer numero:'))\n",
    "\n",
    "lista_numeros = [numero1,numero2,numero3]\n",
    "\n",
    "maximo = max(lista_numeros) # valor mas grande\n",
    "\n",
    "if maximo%2 == 0:\n",
    "    print('El maximo valor ingresado es' , maximo , 'y es un numero PAR')\n",
    "else:\n",
    "    print('El maximo valor ingresado es' , maximo , 'y es un numero IMPAR')"
   ]
  },
  {
   "cell_type": "code",
   "execution_count": 114,
   "metadata": {},
   "outputs": [
    {
     "name": "stdout",
     "output_type": "stream",
     "text": [
      "El dia de la semana es: Domingo\n"
     ]
    }
   ],
   "source": [
    "#Ejercicio Nº10 - Confeccione un programa que pida un número del 1 al 7 y diga el día de la semana correspondiente.\n",
    "\n",
    "numero = int(input('Ingrese un numero:'))\n",
    "dias = ['Lunes','Martes','Miercoles','Jueves','Viernes','Sabado','Domingo']\n",
    "\n",
    "\n",
    "if 1 <= numero <= 7:\n",
    "    print('El dia de la semana es:' , dias[numero-1])\n",
    "else:\n",
    "    print('Dato ingresado incorrecto, intentar nuevamente:')\n"
   ]
  },
  {
   "cell_type": "code",
   "execution_count": 119,
   "metadata": {},
   "outputs": [
    {
     "name": "stdout",
     "output_type": "stream",
     "text": [
      "El mes correspondiente es: Julio\n"
     ]
    }
   ],
   "source": [
    "#Ejercicio Nº11 - Realice un programa que pida un número del 1 al 12 y diga el nombre del mes correspondiente\n",
    "\n",
    "numero = int(input('Ingrese un numero:'))\n",
    "meses = ['Enero','Febrero','Marzo','Abril','Mayo','Junio','Julio','Agosto','Septiembre','Octubre','Noviembre','Diciembre']\n",
    "\n",
    "\n",
    "if 1 <= numero <= 12:\n",
    "    print('El mes correspondiente es:' , meses[numero-1])\n",
    "else:\n",
    "    print('Dato ingresado incorrecto, intentar nuevamente:')"
   ]
  },
  {
   "cell_type": "code",
   "execution_count": 136,
   "metadata": {},
   "outputs": [
    {
     "name": "stdout",
     "output_type": "stream",
     "text": [
      "Ingresar cuatro numeros: \n",
      "Los numeros pares ingresados son: [2, 4, 6] y los numeros impares ingresados son: [5] y la suma de los numeros pares es: 12\n"
     ]
    }
   ],
   "source": [
    "#Ejercicio Nº12 - Realice un programa que lea 4 números y diga cuántos son pares y cuantos impares y devuelva la sumatoria de los pares\n",
    "\n",
    "print('Ingresar cuatro numeros: ')\n",
    "\n",
    "pares = []\n",
    "impares = []\n",
    "for i in range(4):\n",
    "    num = int(input('Ingrese un numero:'))\n",
    "    \n",
    "    if num%2==0:\n",
    "        pares.append(num)\n",
    "    else:\n",
    "        impares.append(num)\n",
    "\n",
    "print('Los numeros pares ingresados son:' , pares , 'y los numeros impares ingresados son:' , impares , 'y la suma de los numeros pares es:' , sum(pares))"
   ]
  },
  {
   "cell_type": "code",
   "execution_count": 138,
   "metadata": {},
   "outputs": [
    {
     "name": "stdout",
     "output_type": "stream",
     "text": [
      "Los numeros mayores o iguales a 100 ingresados fueron 4 y los menores fueron 6 . El numero maximo fue 859.0 y el minimo fue 12.0\n"
     ]
    }
   ],
   "source": [
    "#Ejercicio Nº13 - Leer 10 números y obtener la cantidad de mayores y la cantidad de menores a 100, cuál es el número máximo y cuál es el número mínimo.\n",
    "\n",
    "mayores = 0\n",
    "menores = 0\n",
    "lista = []\n",
    "\n",
    "for i in range(10):\n",
    "    numero = float(input('Ingrese un numero:'))\n",
    "    if numero >= 100:\n",
    "        mayores = mayores + 1\n",
    "    else:\n",
    "        menores = menores + 1\n",
    "    lista.append(numero)\n",
    "\n",
    "print('Los numeros mayores o iguales a 100 ingresados fueron', mayores , 'y los menores fueron' , menores , '. El numero maximo fue' , max(lista) , 'y el minimo fue' , min(lista))\n"
   ]
  },
  {
   "cell_type": "code",
   "execution_count": 146,
   "metadata": {},
   "outputs": [
    {
     "name": "stdout",
     "output_type": "stream",
     "text": [
      "Dato de sexo ingresado incorrecto, Intente nuevamente:\n",
      "La cantidad de mujeres son: 0 y la cantidad de varones son: 0\n",
      "Las personas mayores de edad son: 0 y las personas menores de edad son: 1\n"
     ]
    }
   ],
   "source": [
    "#Ejercicio Nº14 - Ingresar las edades y el sexo de 15 personas y determinar cuántas son mujeres, cuántos varones, cuántos mayores de edad y cuántos menores de edad\n",
    "\n",
    "mayores_edad = 0\n",
    "menores_edad = 0\n",
    "mujeres = 0\n",
    "varones = 0\n",
    "\n",
    "for i in range(5):\n",
    "    edad = int(input('Ingrese edad de la persona:'))\n",
    "    if edad>=18:\n",
    "        mayores_edad = mayores_edad + 1\n",
    "    else:\n",
    "        menores_edad = menores_edad + 1\n",
    "    sexo = str(input('Ingrese el sexo de la persona: -\"f\" si es femenino -\"m\" si es masculino'))\n",
    "    if sexo == 'f':\n",
    "        mujeres = mujeres + 1\n",
    "    elif sexo == 'm':\n",
    "        varones = varones + 1\n",
    "    elif sexo != 'f' and sexo != 'm':\n",
    "        print('Dato de sexo ingresado incorrecto, Intente nuevamente:')\n",
    "        break\n",
    "\n",
    "print('La cantidad de mujeres son:' , mujeres , 'y la cantidad de varones son:' , varones)\n",
    "print('Las personas mayores de edad son:' , mayores_edad , 'y las personas menores de edad son:' , menores_edad)"
   ]
  },
  {
   "cell_type": "code",
   "execution_count": 149,
   "metadata": {},
   "outputs": [
    {
     "name": "stdout",
     "output_type": "stream",
     "text": [
      "Los numeros positivos ingresados son: [1.0, 2.0, 2.0, 2.0, 2.0, 3.0, 3.0, 3.0, 3.0, 3.0] y su sumatoria es: 24.0\n"
     ]
    }
   ],
   "source": [
    "#Ejercicio Nº15 - Leer 10 números y mostrar solamente los números positivos, y su sumatoria\n",
    "\n",
    "lista_positivos = []\n",
    "\n",
    "for i in range(10):\n",
    "    numero = float(input('Ingrese un numero:'))\n",
    "    if numero >=0:\n",
    "        lista_positivos.append(numero)\n",
    "    \n",
    "print('Los numeros positivos ingresados son:' , lista_positivos , 'y su sumatoria es:', sum(lista_positivos))\n",
    "\n"
   ]
  },
  {
   "cell_type": "code",
   "execution_count": 154,
   "metadata": {},
   "outputs": [
    {
     "name": "stdout",
     "output_type": "stream",
     "text": [
      "Los numeros ingresados convertidos son: [2.0, 2.0, 2.0, 2.0, 2.0, 2.0, 2.0, 2.0, 2.0, 2.0, 2.0, 2.0, 2.0, 2.0]\n"
     ]
    }
   ],
   "source": [
    "#Ejercicio Nº16 - Leer 15 números negativos y convertirlos a positivos e imprimir dichos números\n",
    "\n",
    "lista_negativos = []\n",
    "\n",
    "for i in range(15):\n",
    "    numero = float(input('Ingrese un numero:'))\n",
    "    if numero <0:\n",
    "        lista_negativos.append(-1*numero)\n",
    "    \n",
    "print('Los numeros ingresados convertidos a postivos son:' , lista_negativos)"
   ]
  }
 ],
 "metadata": {
  "kernelspec": {
   "display_name": "Python 3.9.13 64-bit (microsoft store)",
   "language": "python",
   "name": "python3"
  },
  "language_info": {
   "name": "python",
   "version": "3.9.13"
  },
  "orig_nbformat": 4,
  "vscode": {
   "interpreter": {
    "hash": "e0314dc982e8a3efb51afd2fccf8f08aea6f0fcf482884c0400dad91b66b3dd3"
   }
  }
 },
 "nbformat": 4,
 "nbformat_minor": 2
}
